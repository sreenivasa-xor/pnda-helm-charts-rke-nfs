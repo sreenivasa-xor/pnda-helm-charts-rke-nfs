{
 "cells": [
  {
   "cell_type": "markdown",
   "metadata": {},
   "source": [
    "\n",
    "# SparkR tutorial Notebook\n",
    "This is a notebook version of the [SparkR Documentation](http://spark.apache.org/docs/2.4.0/sparkr.html)\n",
    "## Overview\n",
    "SparkR is an R package that provides a light-weight frontend to use Apache Spark from R. In Spark 2.4.0, SparkR provides a distributed data frame implementation that supports operations like selection, filtering, aggregation etc. (similar to R data frames, dplyr) but on large datasets. SparkR also supports distributed machine learning using MLlib.\n",
    "\n",
    "# SparkDataFrame\n",
    "A SparkDataFrame is a distributed collection of data organized into named columns. It is conceptually equivalent to a table in a relational database or a data frame in R, but with richer optimizations under the hood. SparkDataFrames can be constructed from a wide array of sources such as: structured data files, tables in Hive, external databases, or existing local R data frames.\n",
    "\n",
    "All of the examples on this page use sample data included in R or the Spark distribution and can be run using the ./bin/sparkR shell.\n",
    "\n",
    "## Starting Up: SparkSession\n",
    "You can start SparkR from Jupyter R Kernel. You can connect your R program to a Spark cluster from RStudio, R shell, Rscript or other R IDEs. To start, make sure SPARK_HOME is set in environment (you can check Sys.getenv), load the SparkR package, and call sparkR.session as below. It will check for the Spark installation, and, if not found, it will be downloaded and cached automatically. Alternatively, you can also run install.spark manually.\n",
    "\n",
    "In addition to calling sparkR.session, you could also specify certain Spark driver properties. Normally these Application properties and Runtime Environment cannot be set programmatically, as the driver JVM process would have been started, in this case SparkR takes care of this for you. To set them, pass them as you would other configuration properties in the sparkConfig argument to sparkR.session()."
   ]
  },
  {
   "cell_type": "markdown",
   "metadata": {},
   "source": [
    "\n",
    "## Spark Master\n",
    "\n",
    "You can configure your spark master url when starting up SparkSession.\n",
    "\n",
    "To use PNDA spark cluster, get the master url from the environment variable SPARKCONF_SPARK_MASTER\n"
   ]
  },
  {
   "cell_type": "code",
   "execution_count": null,
   "metadata": {},
   "outputs": [],
   "source": [
    "spark_master = Sys.getenv(\"SPARKCONF_SPARK_MASTER\")"
   ]
  },
  {
   "cell_type": "code",
   "execution_count": null,
   "metadata": {},
   "outputs": [],
   "source": [
    "if (nchar(Sys.getenv(\"SPARK_HOME\")) < 1) {\n",
    "  Sys.setenv(SPARK_HOME = \"/home/spark\")\n",
    "}\n",
    "library(SparkR, lib.loc = c(file.path(Sys.getenv(\"SPARK_HOME\"), \"R\", \"lib\")))\n",
    "sparkR.session(master = spark_master, sparkConfig = list(spark.driver.memory = \"2g\"))"
   ]
  },
  {
   "cell_type": "markdown",
   "metadata": {},
   "source": [
    "The following Spark driver properties can be set in sparkConfig with sparkR.session from RStudio:\n",
    "\n",
    "Property Name | Property group | spark-submit equivalent\n",
    " --- | --- | --- \n",
    "spark.master |\tApplication Properties\t| --master\n",
    "spark.yarn.keytab|Application Properties|\t--keytab\n",
    "spark.yarn.principal|\tApplication Properties|\t--principal\n",
    "spark.driver.memory|\tApplication Properties|\t--driver-memory\n",
    "spark.driver.extraClassPath|\tRuntime Environment|\t--driver-class-path\n",
    "spark.driver.extraJavaOptions|\tRuntime Environment|\t--driver-java-options\n",
    "spark.driver.extraLibraryPath|\tRuntime Environment|\t--driver-library-path"
   ]
  },
  {
   "cell_type": "markdown",
   "metadata": {},
   "source": [
    "## Creating SparkDataFrames\n",
    "With a SparkSession, applications can create SparkDataFrames from a local R data frame, from a Hive table, or from other data sources.\n",
    "\n",
    "### From local data frames\n",
    "The simplest way to create a data frame is to convert a local R data frame into a SparkDataFrame. Specifically, we can use as.DataFrame or createDataFrame and pass in the local R data frame to create a SparkDataFrame. As an example, the following creates a SparkDataFrame based using the faithful dataset from R."
   ]
  },
  {
   "cell_type": "code",
   "execution_count": null,
   "metadata": {},
   "outputs": [],
   "source": [
    "df <- as.DataFrame(faithful)\n",
    "# Displays the first part of the SparkDataFrame\n",
    "head(df)"
   ]
  },
  {
   "cell_type": "markdown",
   "metadata": {},
   "source": [
    "### From Data Sources\n",
    "SparkR supports operating on a variety of data sources through the SparkDataFrame interface. This section describes the general methods for loading and saving data using Data Sources. You can check the Spark SQL programming guide for more specific options that are available for the built-in data sources.\n",
    "\n",
    "The general method for creating SparkDataFrames from data sources is read.df. This method takes in the path for the file to load and the type of data source, and the currently active SparkSession will be used automatically. SparkR supports reading JSON, CSV and Parquet files natively, and through packages available from sources like Third Party Projects, you can find data source connectors for popular file formats like Avro. These packages can either be added by specifying --packages with spark-submit or sparkR commands, or if initializing SparkSession with sparkPackages parameter when in an interactive R shell or from RStudio."
   ]
  },
  {
   "cell_type": "code",
   "execution_count": null,
   "metadata": {},
   "outputs": [],
   "source": [
    "sparkR.session(sparkPackages = \"com.databricks:spark-avro_2.11:3.0.0\")"
   ]
  },
  {
   "cell_type": "markdown",
   "metadata": {},
   "source": [
    "We can see how to use data sources using an example JSON input file. Note that the file that is used here is not a typical JSON file. Each line in the file must contain a separate, self-contained valid JSON object. For more information, please see JSON Lines text format, also called newline-delimited JSON. As a consequence, a regular multi-line JSON file will most often fail."
   ]
  },
  {
   "cell_type": "code",
   "execution_count": null,
   "metadata": {},
   "outputs": [],
   "source": [
    "people <- read.df(\"/opt/spark/examples/src/main/resources/people.json\", \"json\")\n",
    "head(people)"
   ]
  },
  {
   "cell_type": "markdown",
   "metadata": {},
   "source": [
    "SparkR automatically infers the schema from the JSON file"
   ]
  },
  {
   "cell_type": "code",
   "execution_count": null,
   "metadata": {},
   "outputs": [],
   "source": [
    "printSchema(people)"
   ]
  },
  {
   "cell_type": "markdown",
   "metadata": {},
   "source": [
    "Similarly, multiple files can be read with read.json"
   ]
  },
  {
   "cell_type": "code",
   "execution_count": null,
   "metadata": {},
   "outputs": [],
   "source": [
    "people <- read.json(c(\"/opt/spark/examples/src/main/resources/people.json\", \"/opt/spark/examples/src/main/resources/people.json\"))"
   ]
  },
  {
   "cell_type": "markdown",
   "metadata": {},
   "source": [
    "The data sources API natively supports CSV formatted input files. For more information please refer to SparkR [read.df](http://spark.apache.org/docs/latest/api/R/read.df.html) API documentation."
   ]
  },
  {
   "cell_type": "code",
   "execution_count": null,
   "metadata": {},
   "outputs": [],
   "source": [
    "csvPath <- \"/opt/spark/examples/src/main/resources/people.csv\"\n",
    "df <- read.df(csvPath, \"csv\", header = \"true\", inferSchema = \"true\", na.strings = \"NA\", delimiter=\";\")"
   ]
  },
  {
   "cell_type": "code",
   "execution_count": null,
   "metadata": {},
   "outputs": [],
   "source": [
    "head(df)"
   ]
  },
  {
   "cell_type": "markdown",
   "metadata": {},
   "source": [
    "### From Hive tables (NOT DONE)\n",
    "You can also create SparkDataFrames from Hive tables. To do this we will need to create a SparkSession with Hive support which can access tables in the Hive MetaStore. Note that Spark should have been built with Hive support and more details can be found in the SQL programming guide. In SparkR, by default it will attempt to create a SparkSession with Hive support enabled (enableHiveSupport = TRUE)."
   ]
  },
  {
   "cell_type": "markdown",
   "metadata": {},
   "source": [
    "# SparkDataFrame Operations\n",
    "SparkDataFrames support a number of functions to do structured data processing. Here we include some basic examples and a complete list can be found in the API docs:\n",
    "\n",
    "## Selecting rows, columns"
   ]
  },
  {
   "cell_type": "code",
   "execution_count": null,
   "metadata": {},
   "outputs": [],
   "source": [
    "df <- as.DataFrame(faithful)\n",
    "# Get basic information about the SparkDataFrame\n",
    "df"
   ]
  },
  {
   "cell_type": "code",
   "execution_count": null,
   "metadata": {},
   "outputs": [],
   "source": [
    "# Select only the \"eruptions\" column\n",
    "head(select(df, df$eruptions))"
   ]
  },
  {
   "cell_type": "code",
   "execution_count": null,
   "metadata": {},
   "outputs": [],
   "source": [
    "# You can also pass in column name as strings\n",
    "head(select(df, \"eruptions\"))"
   ]
  },
  {
   "cell_type": "code",
   "execution_count": null,
   "metadata": {},
   "outputs": [],
   "source": [
    "# Filter the SparkDataFrame to only retain rows with wait times shorter than 50 mins\n",
    "head(filter(df, df$waiting < 50))\n",
    "##  eruptions waiting\n",
    "##1     1.750      47\n",
    "##2     1.750      47\n",
    "##3     1.867      48"
   ]
  },
  {
   "cell_type": "markdown",
   "metadata": {},
   "source": [
    "## Grouping, Aggregation\n",
    "SparkR data frames support a number of commonly used functions to aggregate data after grouping. For example, we can compute a histogram of the waiting time in the faithful dataset as shown below"
   ]
  },
  {
   "cell_type": "code",
   "execution_count": null,
   "metadata": {},
   "outputs": [],
   "source": [
    "# We use the `n` operator to count the number of times each waiting time appears\n",
    "head(summarize(groupBy(df, df$waiting), count = n(df$waiting)))"
   ]
  },
  {
   "cell_type": "code",
   "execution_count": null,
   "metadata": {},
   "outputs": [],
   "source": [
    "# We can also sort the output from the aggregation to get the most common waiting times\n",
    "waiting_counts <- summarize(groupBy(df, df$waiting), count = n(df$waiting))\n",
    "head(arrange(waiting_counts, desc(waiting_counts$count)))"
   ]
  },
  {
   "cell_type": "markdown",
   "metadata": {},
   "source": [
    "In addition to standard aggregations, SparkR supports OLAP cube operators cube:"
   ]
  },
  {
   "cell_type": "code",
   "execution_count": null,
   "metadata": {},
   "outputs": [],
   "source": [
    "df <- as.DataFrame(mtcars)\n",
    "head(agg(cube(df, \"cyl\", \"disp\", \"gear\"), avg(df$mpg)))"
   ]
  },
  {
   "cell_type": "markdown",
   "metadata": {},
   "source": [
    "and rollup:"
   ]
  },
  {
   "cell_type": "code",
   "execution_count": null,
   "metadata": {},
   "outputs": [],
   "source": [
    "head(agg(rollup(df, \"cyl\", \"disp\", \"gear\"), avg(df$mpg)))"
   ]
  },
  {
   "cell_type": "markdown",
   "metadata": {},
   "source": [
    "## Operating on Columns\n",
    "SparkR also provides a number of functions that can directly applied to columns for data processing and during aggregation. The example below shows the use of basic arithmetic functions."
   ]
  },
  {
   "cell_type": "code",
   "execution_count": null,
   "metadata": {},
   "outputs": [],
   "source": [
    "df <- as.DataFrame(faithful)\n",
    "# Convert waiting time from hours to seconds.\n",
    "# Note that we can assign this to a new column in the same SparkDataFrame\n",
    "df$waiting_secs <- df$waiting * 60\n",
    "head(df)"
   ]
  },
  {
   "cell_type": "markdown",
   "metadata": {},
   "source": [
    "## Applying User-Defined Function\n",
    "In SparkR, we support several kinds of User-Defined Functions:\n",
    "\n",
    "### Run a given function on a large dataset using dapply or dapplyCollect\n",
    "#### dapply\n",
    "Apply a function to each partition of a SparkDataFrame. The function to be applied to each partition of the SparkDataFrame and should have only one parameter, to which a data.frame corresponds to each partition will be passed. The output of function should be a data.frame. Schema specifies the row format of the resulting a SparkDataFrame. It must match to data types of returned value."
   ]
  },
  {
   "cell_type": "code",
   "execution_count": null,
   "metadata": {},
   "outputs": [],
   "source": [
    "df <- as.DataFrame(faithful)\n",
    "\n",
    "# Convert waiting time from hours to seconds.\n",
    "# Note that we can apply UDF to DataFrame.\n",
    "schema <- structType(structField(\"eruptions\", \"double\"), structField(\"waiting\", \"double\"), structField(\"waiting_secs\", \"double\"))\n",
    "head(collect(df))\n",
    "df1 <- dapply(df, function(x) { x <- cbind(x, x$waiting * 60) }, schema)\n",
    "head(collect(df1))"
   ]
  },
  {
   "cell_type": "markdown",
   "metadata": {},
   "source": [
    "#### dapplyCollect\n",
    "Like dapply, apply a function to each partition of a SparkDataFrame and collect the result back. The output of function should be a data.frame. But, Schema is not required to be passed. Note that dapplyCollect can fail if the output of UDF run on all the partition cannot be pulled to the driver and fit in driver memory.\n",
    "\n"
   ]
  },
  {
   "cell_type": "code",
   "execution_count": null,
   "metadata": {},
   "outputs": [],
   "source": [
    "# Convert waiting time from hours to seconds.\n",
    "# Note that we can apply UDF to DataFrame and return a R's data.frame\n",
    "ldf <- dapplyCollect(\n",
    "         df,\n",
    "         function(x) {\n",
    "           x <- cbind(x, \"waiting_secs\" = x$waiting * 60)\n",
    "         })\n",
    "head(ldf, 3)"
   ]
  },
  {
   "cell_type": "markdown",
   "metadata": {},
   "source": [
    "### Run a given function on a large dataset grouping by input column(s) and using gapply or gapplyCollect\n",
    "#### gapply\n",
    "Apply a function to each group of a SparkDataFrame. The function is to be applied to each group of the SparkDataFrame and should have only two parameters: grouping key and R data.frame corresponding to that key. The groups are chosen from SparkDataFrames column(s). The output of function should be a data.frame. Schema specifies the row format of the resulting SparkDataFrame. It must represent R function's output schema on the basis of Spark data types. The column names of the returned data.frame are set by user."
   ]
  },
  {
   "cell_type": "code",
   "execution_count": null,
   "metadata": {},
   "outputs": [],
   "source": [
    "df <- as.DataFrame(faithful)\n",
    "\n",
    "# Determine six waiting times with the largest eruption time in minutes.\n",
    "schema <- structType(structField(\"waiting\", \"double\"), structField(\"max_eruption\", \"double\"))\n",
    "result <- gapply(\n",
    "    df,\n",
    "    \"waiting\",\n",
    "    function(key, x) {\n",
    "        y <- data.frame(key, max(x$eruptions))\n",
    "    },\n",
    "    schema)\n",
    "head(collect(arrange(result, \"max_eruption\", decreasing = TRUE)))\n"
   ]
  },
  {
   "cell_type": "markdown",
   "metadata": {},
   "source": [
    "#### gapplyCollect\n",
    "Like gapply, applies a function to each partition of a SparkDataFrame and collect the result back to R data.frame. The output of the function should be a data.frame. But, the schema is not required to be passed. Note that gapplyCollect can fail if the output of UDF run on all the partition cannot be pulled to the driver and fit in driver memory."
   ]
  },
  {
   "cell_type": "code",
   "execution_count": null,
   "metadata": {},
   "outputs": [],
   "source": [
    "# Determine six waiting times with the largest eruption time in minutes.\n",
    "result <- gapplyCollect(\n",
    "    df,\n",
    "    \"waiting\",\n",
    "    function(key, x) {\n",
    "        y <- data.frame(key, max(x$eruptions))\n",
    "        colnames(y) <- c(\"waiting\", \"max_eruption\")\n",
    "        y\n",
    "    })\n",
    "head(result[order(result$max_eruption, decreasing = TRUE), ])"
   ]
  },
  {
   "cell_type": "markdown",
   "metadata": {},
   "source": [
    "### Run local R functions distributed using spark.lapply\n",
    "#### spark.lapply\n",
    "Similar to lapply in native R, spark.lapply runs a function over a list of elements and distributes the computations with Spark. Applies a function in a manner that is similar to doParallel or lapply to elements of a list. The results of all the computations should fit in a single machine. If that is not the case they can do something like df <- createDataFrame(list) and then use dapply\n",
    "\n"
   ]
  },
  {
   "cell_type": "code",
   "execution_count": null,
   "metadata": {},
   "outputs": [],
   "source": [
    "# Perform distributed training of multiple models with spark.lapply. Here, we pass\n",
    "# a read-only list of arguments which specifies family the generalized linear model should be.\n",
    "families <- c(\"gaussian\", \"poisson\")\n",
    "train <- function(family) {\n",
    "  model <- glm(Sepal.Length ~ Sepal.Width + Species, iris, family = family)\n",
    "  summary(model)\n",
    "}\n",
    "# Return a list of model's summaries\n",
    "model.summaries <- spark.lapply(families, train)\n",
    "\n",
    "# Print the summary of each model\n",
    "print(model.summaries)"
   ]
  },
  {
   "cell_type": "markdown",
   "metadata": {},
   "source": [
    "## Running SQL Queries from SparkR\n",
    "A SparkDataFrame can also be registered as a temporary view in Spark SQL and that allows you to run SQL queries over its data. The sql function enables applications to run SQL queries programmatically and returns the result as a SparkDataFrame."
   ]
  },
  {
   "cell_type": "code",
   "execution_count": null,
   "metadata": {},
   "outputs": [],
   "source": [
    "# Load a JSON file\n",
    "people <- read.df(\"/opt/spark/examples/src/main/resources/people.json\", \"json\")\n",
    "\n",
    "# Register this SparkDataFrame as a temporary view.\n",
    "createOrReplaceTempView(people, \"people\")\n",
    "\n",
    "# SQL statements can be run by using the sql method\n",
    "teenagers <- sql(\"SELECT name FROM people WHERE age >= 13 AND age <= 19\")\n",
    "head(teenagers)"
   ]
  },
  {
   "cell_type": "markdown",
   "metadata": {},
   "source": [
    "## Machine Learning"
   ]
  },
  {
   "cell_type": "markdown",
   "metadata": {},
   "source": [
    "### Algorithms\n",
    "SparkR supports the following machine learning algorithms currently:\n",
    "\n",
    "#### Classification\n",
    "- spark.logit: Logistic Regression\n",
    "- spark.mlp: Multilayer Perceptron (MLP)\n",
    "- spark.naiveBayes: Naive Bayes\n",
    "- spark.svmLinear: Linear Support Vector Machine\n",
    "\n",
    "#### Regression\n",
    "- spark.survreg: Accelerated Failure Time (AFT) Survival Model\n",
    "- spark.glm or glm: Generalized Linear Model (GLM)\n",
    "- spark.isoreg: Isotonic Regression\n",
    "\n",
    "#### Tree\n",
    "- spark.decisionTree: Decision Tree for Regression and Classification\n",
    "- spark.gbt: Gradient Boosted Trees for Regression and Classification\n",
    "- spark.randomForest: Random Forest for Regression and Classification\n",
    "\n",
    "#### Clustering\n",
    "- spark.bisectingKmeans: Bisecting k-means\n",
    "- spark.gaussianMixture: Gaussian Mixture Model (GMM)\n",
    "- spark.kmeans: K-Means\n",
    "- spark.lda: Latent Dirichlet Allocation (LDA)\n",
    "\n",
    "#### Collaborative Filtering\n",
    "- spark.als: Alternating Least Squares (ALS)\n",
    "- Frequent Pattern Mining\n",
    "- spark.fpGrowth : FP-growth\n",
    "\n",
    "#### Statistics\n",
    "- spark.kstest: Kolmogorov-Smirnov Test\n",
    "\n",
    "Under the hood, SparkR uses MLlib to train the model. Please refer to the corresponding section of MLlib user guide for example code. Users can call summary to print a summary of the fitted model, predict to make predictions on new data, and write.ml/read.ml to save/load fitted models. SparkR supports a subset of the available R formula operators for model fitting, including '~', '.', ':', '+', and '-'."
   ]
  },
  {
   "cell_type": "markdown",
   "metadata": {},
   "source": [
    "### Model persistence\n",
    "The following example shows how to save/load a MLlib model by SparkR.\n",
    "\n"
   ]
  },
  {
   "cell_type": "code",
   "execution_count": null,
   "metadata": {},
   "outputs": [],
   "source": [
    "training <- read.df(\"/opt/spark/data/mllib/sample_multiclass_classification_data.txt\", source = \"libsvm\")\n",
    "# Fit a generalized linear model of family \"gaussian\" with spark.glm\n",
    "df_list <- randomSplit(training, c(7,3), 2)\n",
    "gaussianDF <- df_list[[1]]\n",
    "gaussianTestDF <- df_list[[2]]\n",
    "gaussianGLM <- spark.glm(gaussianDF, label ~ features, family = \"gaussian\")\n",
    "\n",
    "# Save and then load a fitted MLlib model\n",
    "modelPath <- tempfile(pattern = \"ml\", fileext = \".tmp\")\n",
    "write.ml(gaussianGLM, modelPath)\n",
    "gaussianGLM2 <- read.ml(modelPath)\n",
    "\n",
    "# Check model summary\n",
    "summary(gaussianGLM2)\n",
    "\n",
    "# Check model prediction\n",
    "gaussianPredictions <- predict(gaussianGLM2, gaussianTestDF)\n",
    "head(gaussianPredictions)\n",
    "\n",
    "unlink(modelPath)"
   ]
  },
  {
   "cell_type": "markdown",
   "metadata": {},
   "source": [
    "Find full example code at \"examples/src/main/r/ml/ml.R\" in the Spark repo."
   ]
  },
  {
   "cell_type": "code",
   "execution_count": null,
   "metadata": {},
   "outputs": [],
   "source": [
    "sparkR.session.stop()"
   ]
  },
  {
   "cell_type": "markdown",
   "metadata": {},
   "source": [
    "## Data type mapping between R and Spark\n",
    "\n",
    "<table class=\"table\">\n",
    "  <thead>\n",
    "    <tr>\n",
    "      <th>R</th>\n",
    "      <th>Spark</th>\n",
    "    </tr>\n",
    "  </thead>\n",
    "  <tbody>\n",
    "    <tr>\n",
    "        <td>byte</td><td>byte</td>\n",
    "    </tr>\n",
    "    <tr>\n",
    "        <td>integer</td><td>integer</td>\n",
    "    </tr>\n",
    "    <tr>\n",
    "        <td>float</td><td>float</td>\n",
    "    </tr>\n",
    "    <tr>\n",
    "        <td>double</td><td>double</td>\n",
    "    </tr>\n",
    "    <tr>\n",
    "        <td>numeric</td><td>double</td>\n",
    "    </tr>\n",
    "    <tr>\n",
    "        <td>character</td><td>string</td>\n",
    "    </tr>\n",
    "    <tr>\n",
    "        <td>string</td><td>string</td>\n",
    "    </tr>\n",
    "    <tr>\n",
    "        <td>binary</td><td>binary</td>\n",
    "    </tr>\n",
    "    <tr>\n",
    "        <td>raw</td><td></td>\n",
    "    </tr>\n",
    "    <tr>\n",
    "        <td>logical</td><td>boolean</td>\n",
    "    </tr>\n",
    "    <tr>\n",
    "        <td>POSIXct</td><td>timestamp</td>\n",
    "    </tr>\n",
    "    <tr>\n",
    "        <td>POSIXlt</td><td>timestamp</td>\n",
    "    </tr>\n",
    "    <tr>\n",
    "        <td>Date</td><td>date</td>\n",
    "    </tr>\n",
    "    <tr>\n",
    "        <td>array</td><td>array</td>\n",
    "    </tr>\n",
    "    <tr>\n",
    "        <td>list</td><td>array</td>\n",
    "    </tr>\n",
    "    <tr>\n",
    "        <td>env</td><td>map</td>\n",
    "    </tr>\n",
    "    </tbody>\n",
    "     <tfoot><tr><td colspan=\"4\"></td></tr></tfoot>\n",
    "</table>\n"
   ]
  },
  {
   "cell_type": "code",
   "execution_count": null,
   "metadata": {},
   "outputs": [],
   "source": []
  }
 ],
 "metadata": {
  "kernelspec": {
   "display_name": "R",
   "language": "R",
   "name": "ir"
  },
  "language_info": {
   "codemirror_mode": "r",
   "file_extension": ".r",
   "mimetype": "text/x-r-source",
   "name": "R",
   "pygments_lexer": "r",
   "version": "3.5.2"
  },
  "toc": {
   "base_numbering": 1,
   "nav_menu": {},
   "number_sections": false,
   "sideBar": false,
   "skip_h1_title": false,
   "title_cell": "Table of Contents",
   "title_sidebar": "Contents",
   "toc_cell": false,
   "toc_position": {},
   "toc_section_display": false,
   "toc_window_display": false
  }
 },
 "nbformat": 4,
 "nbformat_minor": 4
}
