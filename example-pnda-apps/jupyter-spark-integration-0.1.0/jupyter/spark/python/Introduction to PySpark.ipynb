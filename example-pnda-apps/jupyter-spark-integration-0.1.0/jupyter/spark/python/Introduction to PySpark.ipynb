{
 "cells": [
  {
   "cell_type": "code",
   "execution_count": null,
   "metadata": {},
   "outputs": [],
   "source": [
    "sc"
   ]
  },
  {
   "cell_type": "markdown",
   "metadata": {},
   "source": [
    " #  RDD API Examples"
   ]
  },
  {
   "cell_type": "markdown",
   "metadata": {},
   "source": [
    "## Word Count\n",
    "In this example, we use a few transformations to build a dataset of (String, Int) pairs called counts and then save it to a file.\n",
    "```\n",
    "sc.textFile(name, minPartitions=None, use_unicode=True)\n",
    "Read a text file from HDFS, a local file system (available on all nodes), or any Hadoop-supported file system URI, and return it as an RDD of Strings.\n",
    "```\n"
   ]
  },
  {
   "cell_type": "code",
   "execution_count": null,
   "metadata": {},
   "outputs": [],
   "source": [
    "import os\n",
    "\n",
    "#text_file = sc.textFile(os.getcwd()+\"/../datasets/quijote.txt\")\n",
    "# To avoid copying a local file to all workers\n",
    "\n",
    "lines = []\n",
    "with open('../datasets/quijote.txt') as my_file:\n",
    "    for line in my_file:\n",
    "        lines.append(line)\n",
    "text_file = sc.parallelize(lines)\n",
    "\n",
    "\n",
    "counts = text_file.flatMap(lambda line: line.split(\" \")) \\\n",
    "             .map(lambda word: (word, 1)) \\\n",
    "             .reduceByKey(lambda a, b: a + b)\n",
    "counts = counts.sortBy(lambda a: a[1], ascending=False)\n",
    "#NOTE: sortBy is not as efficient as sortByKey since it involves keying by the values,\n",
    "#sorting by the keys, and then grabbing the values \n",
    "counts.take(50)\n",
    "\n",
    "#counts.saveAsTextFile(os.path.join(\"/notebooks/\",\"quixote-counts.txt\"))\n"
   ]
  },
  {
   "cell_type": "markdown",
   "metadata": {},
   "source": [
    "## Pi Estimation\n",
    "\n",
    "Spark can also be used for compute-intensive tasks. This code estimates pi by \"throwing darts\" at a circle. We pick random points in the unit square ((0, 0) to (1,1)) and see how many fall in the unit circle. The fraction should be pi / 4, so we use this to get our estimate."
   ]
  },
  {
   "cell_type": "code",
   "execution_count": null,
   "metadata": {},
   "outputs": [],
   "source": [
    "import random\n",
    "\n",
    "NUM_SAMPLES=12000000\n",
    "\n",
    "def inside(p):\n",
    "    x, y = random.random(), random.random()\n",
    "    return x*x + y*y < 1\n",
    "\n",
    "count = sc.parallelize(range(0, NUM_SAMPLES)) \\\n",
    "             .filter(inside).count()\n",
    "print (\"Pi is roughly {}\".format(4.0 * count / NUM_SAMPLES))"
   ]
  },
  {
   "cell_type": "markdown",
   "metadata": {},
   "source": [
    "# DataFrame API Examples"
   ]
  },
  {
   "cell_type": "markdown",
   "metadata": {},
   "source": [
    "### Testing Conversion to/from Pandas with arrow"
   ]
  },
  {
   "cell_type": "code",
   "execution_count": null,
   "metadata": {},
   "outputs": [],
   "source": [
    "# Enable Arrow-based columnar data transfers\n",
    "spark.conf.set(\"spark.sql.execution.arrow.enabled\", \"true\")\n",
    "\n",
    "# Generate a Pandas DataFrame\n",
    "pdf = pd.DataFrame(np.random.rand(100, 3))\n",
    "\n",
    "# Create a Spark DataFrame from a Pandas DataFrame using Arrow\n",
    "df = spark.createDataFrame(pdf)\n",
    "\n",
    "# Convert the Spark DataFrame back to a Pandas DataFrame using Arrow\n",
    "result_pdf = df.select(\"*\").toPandas()\n"
   ]
  },
  {
   "cell_type": "markdown",
   "metadata": {},
   "source": [
    "In this example, we count al quijote lines mentioning Dulcinea."
   ]
  },
  {
   "cell_type": "code",
   "execution_count": null,
   "metadata": {},
   "outputs": [],
   "source": [
    "from pyspark.sql import SparkSession, Row\n",
    "from pyspark.sql.functions import col\n",
    "\n",
    "\n",
    "# Creates a DataFrame having a single column named \"line\"\n",
    "df = text_file.map(lambda r: Row(r)).toDF([\"line\"])\n",
    "dulcinea_lines = df.filter(col(\"line\").like(\"%Dulcinea%\"))\n",
    "# Counts all the Dulcinea lines\n",
    "print(\"There are {} lines with 'Dulcinea'\".format(dulcinea_lines.count()))\n",
    "# Counts lines mentioning Dulcinea and Quijote\n",
    "print(\"There are {} lines with 'Dulcinea' and 'Quijote'\".format(\n",
    "    dulcinea_lines.filter(col(\"line\").like(\"%Quijote%\")).count()))\n",
    "# Fetches the lines as an array of strings\n",
    "dulcinea_lines.filter(col(\"line\").like(\"%Quijote%\")).collect()"
   ]
  },
  {
   "cell_type": "markdown",
   "metadata": {},
   "source": [
    "### Exploring the superheroes dataset"
   ]
  },
  {
   "cell_type": "code",
   "execution_count": null,
   "metadata": {},
   "outputs": [],
   "source": [
    "from pyspark.sql.types import *\n",
    "\n",
    "# To avoid copying a local file to all workers we create pandas dataframe at driver and convert to spark dataframe\n",
    "# To Enable Arrow-based columnar data transfers\n",
    "spark.conf.set(\"spark.sql.execution.arrow.enabled\", \"true\")\n",
    "superhero_pdf = pd.read_csv(\"../datasets/superheroes_info.csv\",index_col='Index')\n",
    "\n",
    "\n",
    "# We explicitly set schema to avoid problems with mapping pandas NaN Strings to SparkDataframe\n",
    "# If not set,  Spark will try to convert NaN to DoubleType wiht error -> Can not merge type <class 'pyspark.sql.types.StringType'> and <class 'pyspark.sql.types.DoubleType'>\n",
    "mapping = {'object': StringType, 'float64': FloatType}\n",
    "superhero_df = spark.createDataFrame(superhero_pdf, schema= StructType( [StructField(name, mapping[dtype.name]()) for name,dtype in superhero_pdf.dtypes.iteritems() ]))\n",
    "\n",
    "superhero_df.show(10)\n"
   ]
  },
  {
   "cell_type": "code",
   "execution_count": null,
   "metadata": {},
   "outputs": [],
   "source": [
    "from pyspark.sql.functions import isnan, when, count, col\n",
    "df=superhero_df \n",
    "publisher_df = superhero_df.groupby(\"Publisher\").count().show()"
   ]
  },
  {
   "cell_type": "markdown",
   "metadata": {},
   "source": [
    "### Spark SQL Example"
   ]
  },
  {
   "cell_type": "code",
   "execution_count": null,
   "metadata": {},
   "outputs": [],
   "source": [
    "superhero_df.createOrReplaceTempView(\"superhero_table\")\n",
    "spark.sql(\"select Name,Gender,Status from superhero_table\").show()"
   ]
  },
  {
   "cell_type": "code",
   "execution_count": null,
   "metadata": {},
   "outputs": [],
   "source": []
  }
 ],
 "metadata": {
  "kernelspec": {
   "display_name": "PySpark - Local",
   "language": "python",
   "name": "pyspark-local"
  },
  "language_info": {
   "codemirror_mode": {
    "name": "ipython",
    "version": 3
   },
   "file_extension": ".py",
   "mimetype": "text/x-python",
   "name": "python",
   "nbconvert_exporter": "python",
   "pygments_lexer": "ipython3",
   "version": "3.7.3"
  },
  "toc": {
   "base_numbering": 1,
   "nav_menu": {},
   "number_sections": false,
   "sideBar": false,
   "skip_h1_title": false,
   "title_cell": "Table of Contents",
   "title_sidebar": "Contents",
   "toc_cell": false,
   "toc_position": {},
   "toc_section_display": false,
   "toc_window_display": false
  }
 },
 "nbformat": 4,
 "nbformat_minor": 4
}
