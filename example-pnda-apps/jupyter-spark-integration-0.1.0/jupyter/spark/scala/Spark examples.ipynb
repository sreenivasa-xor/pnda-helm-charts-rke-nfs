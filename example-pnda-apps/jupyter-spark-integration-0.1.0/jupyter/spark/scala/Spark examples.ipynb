{
 "cells": [
  {
   "cell_type": "code",
   "execution_count": null,
   "metadata": {},
   "outputs": [],
   "source": [
    "sc.getConf.toDebugString"
   ]
  },
  {
   "cell_type": "markdown",
   "metadata": {},
   "source": [
    " #  RDD API Examples"
   ]
  },
  {
   "cell_type": "markdown",
   "metadata": {},
   "source": [
    "## Word Count\n",
    "In this example, we use a few transformations to build a dataset of (String, Int) pairs called counts and then save it to a file.\n",
    "```\n",
    "sc.textFile(name, minPartitions=None, use_unicode=True)\n",
    "Read a text file from HDFS, a local file system (available on all nodes), or any Hadoop-supported file system URI, and return it as an RDD of Strings.\n",
    "```"
   ]
  },
  {
   "cell_type": "code",
   "execution_count": null,
   "metadata": {},
   "outputs": [],
   "source": [
    "import scala.io.Source\n",
    "\n",
    "//text_file = sc.textFile(\"/../datasets/quijote.txt\")\n",
    "// To avoid copying a local file to all workers\n",
    "\n",
    "\n",
    "val textFile = sc.parallelize(Source.fromFile(\"../datasets/quijote.txt\").getLines.toList)\n",
    "\n",
    "\n",
    "\n",
    "val counts = textFile.flatMap(line => line.split(\" \"))\n",
    "                 .map(word => (word, 1))\n",
    "                 .reduceByKey(_ + _)\n",
    "counts.sortBy(_._2, ascending=false).take(50)\n",
    "\n"
   ]
  },
  {
   "cell_type": "markdown",
   "metadata": {},
   "source": [
    " ## Pi Estimation\n",
    "\n",
    "Spark can also be used for compute-intensive tasks. This code estimates pi by \"throwing darts\" at a circle. We pick random points in the unit square ((0, 0) to (1,1)) and see how many fall in the unit circle. The fraction should be pi / 4, so we use this to get our estimate."
   ]
  },
  {
   "cell_type": "code",
   "execution_count": null,
   "metadata": {},
   "outputs": [],
   "source": [
    "val NUM_SAMPLES = 1000000 \n",
    "val count = sc.parallelize(1 to NUM_SAMPLES).filter { _ =>\n",
    "  val x = math.random\n",
    "  val y = math.random\n",
    "  x*x + y*y < 1\n",
    "}.count()\n",
    "println(s\"Pi is roughly ${4.0 * count / NUM_SAMPLES}\")"
   ]
  },
  {
   "cell_type": "markdown",
   "metadata": {},
   "source": [
    "# DataFrame API Examples"
   ]
  },
  {
   "cell_type": "markdown",
   "metadata": {},
   "source": [
    "In this example, we count all quijote lines mentioning Dulcinea."
   ]
  },
  {
   "cell_type": "code",
   "execution_count": null,
   "metadata": {},
   "outputs": [],
   "source": [
    "import org.apache.spark.sql.functions.col\n",
    "import scala.io.Source\n",
    "\n",
    "//text_file = sc.textFile(\"/../datasets/quijote.txt\")\n",
    "// To avoid copying a local file to all workers\n",
    "val textFile = sc.parallelize(Source.fromFile(\"../datasets/quijote.txt\").getLines.toList)\n",
    "\n",
    "// Creates a DataFrame having a single column named \"line\"\n",
    "val df = textFile.toDF(\"line\")\n",
    "val dulcinea_lines = df.filter(col(\"line\").like(\"%Dulcinea%\"))\n",
    "// Counts all the Dulcinea lines\n",
    "printf(\"Lines with 'Dulcinea' = %d\\n\", dulcinea_lines.count())\n",
    "// Counts lines mentioning Dulcinea and Quijote\n",
    "val dulcinea_quijote_lines = dulcinea_lines.filter(col(\"line\").like(\"%Quijote%\"))\n",
    "printf(\"Lines with 'Dulcinea' and 'Quijote' = %d\\n\", dulcinea_quijote_lines.count())"
   ]
  },
  {
   "cell_type": "code",
   "execution_count": null,
   "metadata": {},
   "outputs": [],
   "source": [
    "%%dataframe\n",
    "dulcinea_quijote_lines"
   ]
  },
  {
   "cell_type": "code",
   "execution_count": null,
   "metadata": {},
   "outputs": [],
   "source": []
  }
 ],
 "metadata": {
  "kernelspec": {
   "display_name": "Spark - Cluster - Scala",
   "language": "scala",
   "name": "spark_-_cluster_scala"
  },
  "language_info": {
   "codemirror_mode": "text/x-scala",
   "file_extension": ".scala",
   "mimetype": "text/x-scala",
   "name": "scala",
   "pygments_lexer": "scala",
   "version": "2.11.12"
  },
  "toc": {
   "base_numbering": 1,
   "nav_menu": {},
   "number_sections": false,
   "sideBar": false,
   "skip_h1_title": false,
   "title_cell": "Table of Contents",
   "title_sidebar": "Contents",
   "toc_cell": false,
   "toc_position": {},
   "toc_section_display": false,
   "toc_window_display": false
  }
 },
 "nbformat": 4,
 "nbformat_minor": 4
}
